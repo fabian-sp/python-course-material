{
 "cells": [
  {
   "cell_type": "code",
   "execution_count": null,
   "id": "f518e445",
   "metadata": {},
   "outputs": [],
   "source": [
    "import pandas as pd"
   ]
  },
  {
   "cell_type": "code",
   "execution_count": null,
   "id": "e79e04ab",
   "metadata": {},
   "outputs": [],
   "source": [
    "#Datenimport\n",
    "oxygenrawDF = pd.read_csv('../data/Katalysator.txt',sep='\\t')\n",
    "oxygenrawDF"
   ]
  },
  {
   "cell_type": "code",
   "execution_count": null,
   "id": "c3bac8c8",
   "metadata": {},
   "outputs": [],
   "source": [
    "argonrawDF = pd.read_csv('../data/KatalysatorArgon.txt',sep='\\t')\n",
    "argonrawDF"
   ]
  },
  {
   "cell_type": "code",
   "execution_count": null,
   "id": "0e8e55d9",
   "metadata": {},
   "outputs": [],
   "source": [
    "#Entfernung nicht relevanter Daten\n",
    "argonDF=argonrawDF.loc[argonrawDF['cycle number']==3]\n",
    "argonDF"
   ]
  },
  {
   "cell_type": "code",
   "execution_count": null,
   "id": "6cd31302",
   "metadata": {},
   "outputs": [],
   "source": [
    "#Index bei 0 starten lassen\n",
    "argonDF.reset_index(level=None, drop=True, inplace=True)\n",
    "argonDF"
   ]
  },
  {
   "cell_type": "code",
   "execution_count": null,
   "id": "8aa7d5bd",
   "metadata": {},
   "outputs": [],
   "source": [
    "oxygenDF=oxygenrawDF.loc[oxygenrawDF['cycle number']==3]\n",
    "oxygenDF"
   ]
  },
  {
   "cell_type": "code",
   "execution_count": null,
   "id": "0fe9997d",
   "metadata": {},
   "outputs": [],
   "source": [
    "oxygenDF.reset_index(level=None, drop=True, inplace=True)\n",
    "oxygenDF"
   ]
  },
  {
   "cell_type": "code",
   "execution_count": null,
   "id": "e8e36ef2",
   "metadata": {},
   "outputs": [],
   "source": [
    "#Wert Referenzelektrode [V]\n",
    "E_ref=0.920\n",
    "#Wert ohmscher Widerstand GC [Ohm]\n",
    "E_ohm=48\n",
    "#Masse Katalysator [mg]\n",
    "m=0.05975"
   ]
  },
  {
   "cell_type": "code",
   "execution_count": null,
   "id": "b852d3a5",
   "metadata": {},
   "outputs": [],
   "source": [
    "#Zeit des ersten Datenpunktes null setzen\n",
    "oxygenminTime=oxygenDF.loc[0, 'time/s']\n",
    "oxygenDF['time/s']=oxygenDF['time/s']-oxygenminTime\n",
    "oxygenDF"
   ]
  },
  {
   "cell_type": "code",
   "execution_count": null,
   "id": "04deb251",
   "metadata": {},
   "outputs": [],
   "source": [
    "argonminTime=argonDF.loc[0, 'time/s']\n",
    "argonDF['time/s']=argonDF['time/s']-argonminTime\n",
    "argonDF"
   ]
  },
  {
   "cell_type": "code",
   "execution_count": null,
   "id": "30d3d15c",
   "metadata": {},
   "outputs": [],
   "source": [
    "import numpy as np\n",
    "from scipy import interpolate"
   ]
  },
  {
   "cell_type": "code",
   "execution_count": null,
   "id": "51fd6687",
   "metadata": {},
   "outputs": [],
   "source": [
    "#argontck = interpolate.splrep(argonDF['time/s'], argonDF['<I>/mA'], s=0)\n",
    "#argontnew = np.arange(0, argonDF.loc[601,'time/s'], 0.666)\n",
    "#argonInew = interpolate.splev(argontnew, argontck, der=0)"
   ]
  },
  {
   "cell_type": "code",
   "execution_count": null,
   "id": "90a5f06b",
   "metadata": {},
   "outputs": [],
   "source": [
    "#Interpolation der Sauerstoffdaten, Werte für Zeitpunkte der Argonreihe ausgeben\n",
    "oxygentck = interpolate.splrep(oxygenDF['time/s'], oxygenDF['<I>/mA'], s=0)\n",
    "oxygenInterI=interpolate.splev(argonDF['time/s'],oxygentck, der=0)"
   ]
  },
  {
   "cell_type": "code",
   "execution_count": null,
   "id": "b280da11",
   "metadata": {},
   "outputs": [],
   "source": [
    "#interpolierte Werte der Tabelle hinzufügen\n",
    "argonDF['<I>Oxygen/mA']=oxygenInterI.tolist()\n",
    "argonDF\n",
    "argonDF=argonDF.rename(columns={'<I>/mA':'<I>Argon/mA'})\n",
    "argonDF"
   ]
  },
  {
   "cell_type": "code",
   "execution_count": null,
   "id": "06eac535",
   "metadata": {},
   "outputs": [],
   "source": [
    "#Vertauschen von Spalten und Berechnung der tatsächlichen Aktivität\n",
    "argonDF=argonDF.reindex(columns=['time/s', 'Ewe/V', 'cycle number', '<I>Oxygen/mA', '<I>Argon/mA'])\n",
    "argonDF\n",
    "argonDF['<I>Oxygenreal/mA']=argonDF['<I>Oxygen/mA']-argonDF['<I>Argon/mA']\n",
    "argonDF"
   ]
  },
  {
   "cell_type": "code",
   "execution_count": null,
   "id": "a58039fc",
   "metadata": {},
   "outputs": [],
   "source": [
    "import matplotlib.pyplot as plt"
   ]
  },
  {
   "cell_type": "code",
   "execution_count": null,
   "id": "162ecf95",
   "metadata": {},
   "outputs": [],
   "source": [
    "fig, axis =plt.subplots(1,1)\n",
    "axis.plot(argonDF['Ewe/V'],argonDF['<I>Oxygenreal/mA'], linewidth=0.5, label='Oxygen, real')\n",
    "axis.plot(argonDF['Ewe/V'],argonDF['<I>Oxygen/mA'], linewidth=0.5, label='Oxygen')\n",
    "axis.plot(argonDF['Ewe/V'],argonDF['<I>Argon/mA'], linewidth=0.5, label='Argon')\n",
    "axis.set_xlabel('E_we [V]')\n",
    "axis.set_ylabel('I [mA]')\n",
    "axis.legend()\n",
    "#axis.set_facecolor('white')\n",
    "#Graphexport\n",
    "#fig.savefig('Data/comparison.pdf', facecolor=axis.get_facecolor(), edgecolor='none')\n",
    "fig.savefig('../data/Katalysator-Comparison.pdf')"
   ]
  },
  {
   "cell_type": "code",
   "execution_count": null,
   "id": "63fc411c",
   "metadata": {},
   "outputs": [],
   "source": [
    "#Massennormierung des Stroms\n",
    "argonDF['<I>Oxygenreal_norm/mA/mg']=argonDF['<I>Oxygenreal/mA']/m\n",
    "argonDF"
   ]
  },
  {
   "cell_type": "code",
   "execution_count": null,
   "id": "f01a6338",
   "metadata": {},
   "outputs": [],
   "source": [
    "#Spannungskorrektur mit Referenzelektrode\n",
    "argonDF['Ewe_SHE/V']=argonDF['Ewe/V']+E_ref\n",
    "argonDF"
   ]
  },
  {
   "cell_type": "code",
   "execution_count": null,
   "id": "78ac8a76",
   "metadata": {},
   "outputs": [],
   "source": [
    "#Spannungskorrektur ohmscher Widerstand\n",
    "argonDF['Ewe_SHE,corr/V']=argonDF['Ewe_SHE/V']-argonDF['<I>Oxygenreal/mA']*E_ohm/1000\n",
    "argonDF"
   ]
  },
  {
   "cell_type": "code",
   "execution_count": null,
   "id": "9210eb67",
   "metadata": {},
   "outputs": [],
   "source": [
    "argonDF.to_csv('../data/KatalysatorAktivität.csv', index=False)"
   ]
  }
 ],
 "metadata": {
  "kernelspec": {
   "display_name": "Python 3",
   "language": "python",
   "name": "python3"
  },
  "language_info": {
   "codemirror_mode": {
    "name": "ipython",
    "version": 3
   },
   "file_extension": ".py",
   "mimetype": "text/x-python",
   "name": "python",
   "nbconvert_exporter": "python",
   "pygments_lexer": "ipython3",
   "version": "3.10.2"
  }
 },
 "nbformat": 4,
 "nbformat_minor": 5
}
