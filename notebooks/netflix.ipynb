{
 "cells": [
  {
   "cell_type": "markdown",
   "metadata": {},
   "source": [
    "# Netflix Data Analysis\n",
    "von Daniel Henke & Stefanie Wenzel"
   ]
  },
  {
   "cell_type": "markdown",
   "metadata": {},
   "source": [
    "### Daten importieren und aufräumen"
   ]
  },
  {
   "cell_type": "code",
   "execution_count": null,
   "metadata": {},
   "outputs": [],
   "source": [
    "import pandas as pd\n",
    "import matplotlib.pyplot as plt\n",
    "%matplotlib inline\n",
    "import numpy as np\n",
    "df = pd.read_csv('../data/netflix-rotten-tomatoes-metacritic-imdb.csv')\n",
    "df=df.drop(columns=[\"Image\", \"Poster\", \"TMDb Trailer\", \"Trailer Site\", \"Netflix Link\", \"IMDb Link\", 'Summary', \"Writer\", \"Genre\", \"Tags\", \"Hidden Gem Score\", \"Runtime\", \"Actors\", \"View Rating\", \"Netflix Release Date\", \"Production House\", \"IMDb Votes\"])\n",
    "df"
   ]
  },
  {
   "cell_type": "code",
   "execution_count": null,
   "metadata": {},
   "outputs": [],
   "source": [
    "# Kategorisieren\n",
    "df['Release Date'] = pd.to_datetime(df['Release Date'], format = '%d %b %Y')\n",
    "\n",
    "# Dollarzeichen und Komma entfernen\n",
    "Boxoffice = df['Boxoffice']\n",
    "\n",
    "df['Boxoffice'] = df['Boxoffice'].replace({r'\\$' : ''}, regex = True)\n",
    "\n",
    "df['Boxoffice'] = df['Boxoffice'].replace({r'\\,' : ''}, regex = True)\n",
    "\n",
    "df['Boxoffice'] = pd.to_numeric(df['Boxoffice'])\n",
    "\n",
    "\n",
    "def funct(x):\n",
    "   if x==\"leer\":\n",
    "       return None\n",
    "   else:\n",
    "       return len(x.split(\",\"))\n",
    "       \n",
    "       \n",
    "for c in [\"Languages\", \"Country Availability\"]:\n",
    "    df[c]=df[c].fillna(\"leer\")\n",
    "    df[c]=df[c].apply(funct)\n",
    "\n",
    "df\n"
   ]
  },
  {
   "cell_type": "code",
   "execution_count": null,
   "metadata": {},
   "outputs": [],
   "source": [
    "# fehlende Werte abfragen\n",
    "print(df.isnull().sum())\n",
    "\n",
    "for i in df.columns:\n",
    "    missing_percentage = 100 * df[i].isna().sum()/len(df)\n",
    "    print('{} missing value percentage: {}%'.format(i, round(missing_percentage, 2)))"
   ]
  },
  {
   "cell_type": "markdown",
   "metadata": {},
   "source": [
    "### Filme vs Serien"
   ]
  },
  {
   "cell_type": "code",
   "execution_count": null,
   "metadata": {},
   "outputs": [],
   "source": [
    "MvsS = df.groupby(\"Series or Movie\").mean()\n",
    "MvsS"
   ]
  },
  {
   "cell_type": "markdown",
   "metadata": {},
   "source": [
    "### Release Year"
   ]
  },
  {
   "cell_type": "code",
   "execution_count": null,
   "metadata": {},
   "outputs": [],
   "source": [
    "def funct(x):\n",
    "    return x.year\n",
    "\n",
    "TimeVsLanguage = df\n",
    "TimeVsLanguage[\"Release Date\"] = TimeVsLanguage[\"Release Date\"].apply(funct).dropna()\n",
    "Time=TimeVsLanguage.groupby(\"Release Date\").size()\n",
    "TimeVsLanguage= TimeVsLanguage.groupby(\"Release Date\").mean()\n",
    "\n",
    "plt.title(\"Amount of Netflix Movies based on Release Year\")\n",
    "plt.xlabel(\"Release Year\")\n",
    "plt.plot(Time)"
   ]
  },
  {
   "cell_type": "code",
   "execution_count": null,
   "metadata": {},
   "outputs": [],
   "source": [
    "TimeVsCountry=TimeVsLanguage[TimeVsLanguage.index>1979]\n",
    "TimeVsCountry=TimeVsCountry[TimeVsCountry.index<2020]\n",
    "plt.title(\"Country Availability based on Release Year\")\n",
    "plt.xlabel(\"Release Year between 1980 and 2019\")\n",
    "plt.ylabel(\"Country Availability\")\n",
    "plt.plot(TimeVsCountry.index, TimeVsCountry[\"Country Availability\"])"
   ]
  },
  {
   "cell_type": "markdown",
   "metadata": {},
   "source": [
    "### Countries & Languages"
   ]
  },
  {
   "cell_type": "code",
   "execution_count": null,
   "metadata": {},
   "outputs": [],
   "source": [
    "plt.title(\"Languages vs Countries\")\n",
    "plt.xlabel(\"Amount of Languages\")\n",
    "plt.ylabel(\"Country Availability\")\n",
    "plt.scatter(df[\"Languages\"], df[\"Country Availability\"])"
   ]
  },
  {
   "cell_type": "code",
   "execution_count": null,
   "metadata": {},
   "outputs": [],
   "source": [
    "ContCount = df.groupby(\"Country Availability\").mean()\n",
    "plt.title(\"Countries vs Languages\")\n",
    "plt.ylabel(\"Amount of Languages\")\n",
    "plt.xlabel(\"Country Availability\")\n",
    "plt.plot(ContCount.index, ContCount[\"Languages\"])"
   ]
  },
  {
   "cell_type": "code",
   "execution_count": null,
   "metadata": {},
   "outputs": [],
   "source": [
    "LangCount = df.groupby(\"Languages\").mean()\n",
    "plt.title(\"Languages vs Countries\")\n",
    "plt.xlabel(\"Amount of Languages\")\n",
    "plt.ylabel(\"Country Availability\")\n",
    "plt.plot(LangCount.index, LangCount[\"Country Availability\"])\n"
   ]
  },
  {
   "cell_type": "markdown",
   "metadata": {},
   "source": [
    "### IMDb Score"
   ]
  },
  {
   "cell_type": "code",
   "execution_count": null,
   "metadata": {},
   "outputs": [],
   "source": [
    "counter = df.groupby(\"IMDb Score\").size()\n",
    "plt.title(\"Number of Movies & Series per IMDb Score\")\n",
    "plt.xlabel(\"IMDb Score\")\n",
    "plt.plot(counter)\n"
   ]
  },
  {
   "cell_type": "code",
   "execution_count": null,
   "metadata": {},
   "outputs": [],
   "source": [
    "ScorevsCountry = df.groupby(\"IMDb Score\").median()\n",
    "plt.title(\"IMDb Score vs Country Availability\")\n",
    "plt.xlabel(\"IMDb Score\")\n",
    "plt.plot(ScorevsCountry.index, ScorevsCountry[\"Country Availability\"])"
   ]
  },
  {
   "cell_type": "markdown",
   "metadata": {},
   "source": [
    "### Best Director"
   ]
  },
  {
   "cell_type": "code",
   "execution_count": null,
   "metadata": {},
   "outputs": [],
   "source": [
    "# Welcher Direktor macht die besten Filme?\n",
    "\n",
    "DirectorVsTitle = df[['Director', 'Title']]\n",
    "\n",
    "DirectorVsTitle = DirectorVsTitle.groupby('Director').size()\n",
    "\n",
    "DirectorVsTitle\n"
   ]
  },
  {
   "cell_type": "code",
   "execution_count": null,
   "metadata": {},
   "outputs": [],
   "source": [
    "\n",
    "# Director vs. IMDb Score\n",
    "DirectorVsIMDb = df[['Director', 'IMDb Score', \"Boxoffice\"]]\n",
    "\n",
    "DirectorVsIMDb = DirectorVsIMDb.groupby('Director').mean()\n",
    "\n",
    "DirectorVsIMDb.sort_values('IMDb Score', ascending =False)\n"
   ]
  },
  {
   "cell_type": "code",
   "execution_count": null,
   "metadata": {},
   "outputs": [],
   "source": [
    "\n",
    "# Merge\n",
    "Merge = pd.concat([DirectorVsTitle, DirectorVsIMDb], axis = 1, join ='inner')\n",
    "Merge=Merge.rename(columns={0:\"Amount of Movies\"})\n",
    "\n",
    "# Bedingung für DirectorVsIMDb, ab 3 Titeln\n",
    "Merge = Merge[Merge[\"Amount of Movies\"]>2].sort_values('IMDb Score', ascending =False)\n",
    "\n",
    "Merge[[\"Amount of Movies\", \"IMDb Score\"]].head(20)"
   ]
  },
  {
   "cell_type": "code",
   "execution_count": null,
   "metadata": {},
   "outputs": [],
   "source": [
    "Merge.sort_values('Boxoffice', ascending =False).head(20)"
   ]
  },
  {
   "cell_type": "markdown",
   "metadata": {},
   "source": [
    "### Geld vs Gut"
   ]
  },
  {
   "cell_type": "code",
   "execution_count": null,
   "metadata": {},
   "outputs": [],
   "source": [
    "MoneyVsGood=df\n",
    "MoneyVsGood[\"Boxoffice\"]=MoneyVsGood[\"Boxoffice\"].dropna()\n",
    "Money=MoneyVsGood.groupby(\"Boxoffice\").mean()\n",
    "plt.title(\"How good is a movie or series is based on how much money it made\")\n",
    "plt.xlabel(\"Boxoffice Earnings\")\n",
    "plt.ylabel(\"IMDb Score\")\n",
    "plt.scatter(Money.index, Money[\"IMDb Score\"])"
   ]
  },
  {
   "cell_type": "code",
   "execution_count": null,
   "metadata": {},
   "outputs": [],
   "source": [
    "Good=MoneyVsGood.groupby(\"IMDb Score\").mean()\n",
    "plt.scatter(Good.index, Good[\"Boxoffice\"])\n",
    "plt.ylabel(\"Boxoffice Earnings\")\n",
    "plt.xlabel(\"IMDb Score\")\n",
    "plt.title(\"Boxoffice Earnings based on IMDb Score\")"
   ]
  }
 ],
 "metadata": {
  "interpreter": {
   "hash": "4d9defa72c2715dab9f7f172572cd30a1ab1a2083462d32ef96aadb7c6e0c73b"
  },
  "kernelspec": {
   "display_name": "Python 3",
   "language": "python",
   "name": "python3"
  },
  "language_info": {
   "codemirror_mode": {
    "name": "ipython",
    "version": 3
   },
   "file_extension": ".py",
   "mimetype": "text/x-python",
   "name": "python",
   "nbconvert_exporter": "python",
   "pygments_lexer": "ipython3",
   "version": "3.10.2"
  }
 },
 "nbformat": 4,
 "nbformat_minor": 2
}
