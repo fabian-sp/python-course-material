{
 "cells": [
  {
   "cell_type": "markdown",
   "metadata": {},
   "source": [
    "## Lade Daten"
   ]
  },
  {
   "cell_type": "code",
   "execution_count": null,
   "metadata": {
    "scrolled": true
   },
   "outputs": [],
   "source": [
    "import pandas as pd\n",
    "import matplotlib.pyplot as plt\n",
    "%matplotlib inline\n",
    "\n",
    "cases_df = pd.read_csv(\"../data/cases-rki-by-state.csv\", sep=\",\")\n",
    "cases_df['date'] = pd.to_datetime(cases_df['date'])\n",
    "\n",
    "cases_df = cases_df.set_index(\"date\")\n",
    "\n",
    "#cases_df.loc[\"2021-05-22\"]\n",
    "cases_df"
   ]
  },
  {
   "cell_type": "markdown",
   "metadata": {},
   "source": [
    "## Berechne Fallzahlen in Deutschland auf Basis der Bundesländer"
   ]
  },
  {
   "cell_type": "code",
   "execution_count": null,
   "metadata": {},
   "outputs": [],
   "source": [
    "cases_df[\"DE\"] = 0\n",
    "bundeslaender = cases_df.columns\n",
    "for bl in bundeslaender:\n",
    "    if not bl == \"DE\":\n",
    "        cases_df[\"DE\"] = cases_df[\"DE\"] + cases_df[bl]\n",
    "\n",
    "cases_df"
   ]
  },
  {
   "cell_type": "code",
   "execution_count": null,
   "metadata": {},
   "outputs": [],
   "source": [
    "## Plotten\n",
    "plt.figure(figsize=(10,6))\n",
    "plt.plot(cases_df.index, cases_df[\"DE-BB\"], label=\"Brandenburg\")\n",
    "plt.plot(cases_df.index, cases_df[\"DE-BY\"], label=\"Bayern\")\n",
    "plt.plot(cases_df.index, cases_df[\"DE\"], label=\"Deutschland gesamt\")\n",
    "plt.legend()\n",
    "plt.show()"
   ]
  },
  {
   "cell_type": "markdown",
   "metadata": {},
   "source": [
    "## Berechne tägliche Neuansteckungen"
   ]
  },
  {
   "cell_type": "code",
   "execution_count": null,
   "metadata": {},
   "outputs": [],
   "source": [
    "# Kopiere Dataframe\n",
    "neuansteckungen_df = cases_df.copy()\n",
    "# Berechne zeilenweise Differenz\n",
    "neuansteckungen_df = neuansteckungen_df.diff().fillna(-1)\n",
    "    \n",
    "neuansteckungen_df.plot()\n",
    "#plt.plot(neuansteckungen_df.index, neuansteckungen_df[\"DE\"])\n",
    "#plt.plot(neuansteckungen_df.index, neuansteckungen_df[\"DE\"])\n",
    "#plt.show()"
   ]
  },
  {
   "cell_type": "markdown",
   "metadata": {},
   "source": [
    "## Berechne Inzidenzen"
   ]
  },
  {
   "cell_type": "code",
   "execution_count": null,
   "metadata": {},
   "outputs": [],
   "source": [
    "inzidenzen_df = neuansteckungen_df.copy()\n",
    "einwohner_df = pd.read_csv(\"../data/population.csv\", index_col=0)\n",
    "\n",
    "bundeslaender = cases_df.columns\n",
    "\n",
    "for bl in bundeslaender:\n",
    "    if not bl == \"DE\":\n",
    "        inzidenzen_df[bl] = inzidenzen_df[bl] / einwohner_df.loc[bl, \"Einwohnerzahl\"] * 100000\n",
    "\n",
    "\n",
    "inzidenzen_df[\"DE\"] = neuansteckungen_df[\"DE\"] / einwohner_df[\"Einwohnerzahl\"].sum() * 100000\n",
    "inzidenzen_df"
   ]
  },
  {
   "cell_type": "markdown",
   "metadata": {},
   "source": [
    "## Berechne 7 Tage Inzidenzen"
   ]
  },
  {
   "cell_type": "code",
   "execution_count": null,
   "metadata": {},
   "outputs": [],
   "source": [
    "neuansteckungen_7_df = cases_df.copy()\n",
    "\n",
    "neuansteckungen_7_df = neuansteckungen_7_df.diff(periods=7)\n",
    "\n",
    "neuansteckungen_7_df"
   ]
  },
  {
   "cell_type": "code",
   "execution_count": null,
   "metadata": {},
   "outputs": [],
   "source": [
    "# Vergleiche tägliche Neuansteckungen und 7 Tage Durchschnitt\n",
    "plt.plot(neuansteckungen_df.index, neuansteckungen_df[\"DE\"], label=\"taeglich\")\n",
    "plt.plot(neuansteckungen_7_df.index, neuansteckungen_7_df[\"DE\"] / 7.0, label=\"7 Tage Durchschnitt\")\n",
    "plt.legend()\n",
    "plt.show()"
   ]
  }
 ],
 "metadata": {
  "kernelspec": {
   "display_name": "Python 3",
   "language": "python",
   "name": "python3"
  },
  "language_info": {
   "codemirror_mode": {
    "name": "ipython",
    "version": 3
   },
   "file_extension": ".py",
   "mimetype": "text/x-python",
   "name": "python",
   "nbconvert_exporter": "python",
   "pygments_lexer": "ipython3",
   "version": "3.10.2"
  }
 },
 "nbformat": 4,
 "nbformat_minor": 4
}
