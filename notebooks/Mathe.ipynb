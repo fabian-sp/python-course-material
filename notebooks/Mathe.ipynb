{
 "cells": [
  {
   "cell_type": "code",
   "execution_count": 1,
   "id": "7b24d98b",
   "metadata": {},
   "outputs": [],
   "source": [
    "#Packages importieren\n",
    "import pandas as pd #Package zur Datenanalyse\n",
    "import numpy as np #Package für numerische Daten\n",
    "import matplotlib.pyplot as plt\n",
    "%matplotlib inline\n",
    "import statistics as stat #Statistikpackage für Mittelwertberechnung o.ä.\n",
    "import seaborn as sns #Package zum Plotten nach Gruppe"
   ]
  },
  {
   "cell_type": "code",
   "execution_count": 3,
   "id": "bbe5c1cc",
   "metadata": {},
   "outputs": [
    {
     "ename": "FileNotFoundError",
     "evalue": "[Errno 2] No such file or directory: '../data/Mathe.csv'",
     "output_type": "error",
     "traceback": [
      "\u001b[0;31m---------------------------------------------------------------------------\u001b[0m",
      "\u001b[0;31mFileNotFoundError\u001b[0m                         Traceback (most recent call last)",
      "\u001b[0;32m<ipython-input-3-37e6f08f5e40>\u001b[0m in \u001b[0;36m<module>\u001b[0;34m\u001b[0m\n\u001b[1;32m      1\u001b[0m \u001b[0;31m#Einlesen des Datensatzes\u001b[0m\u001b[0;34m\u001b[0m\u001b[0;34m\u001b[0m\u001b[0m\n\u001b[0;32m----> 2\u001b[0;31m \u001b[0mhsb\u001b[0m \u001b[0;34m=\u001b[0m \u001b[0mpd\u001b[0m\u001b[0;34m.\u001b[0m\u001b[0mread_csv\u001b[0m\u001b[0;34m(\u001b[0m\u001b[0;34m'../data/Mathe.csv'\u001b[0m\u001b[0;34m,\u001b[0m \u001b[0msep\u001b[0m\u001b[0;34m=\u001b[0m\u001b[0;34m';'\u001b[0m\u001b[0;34m,\u001b[0m \u001b[0mdecimal\u001b[0m \u001b[0;34m=\u001b[0m \u001b[0;34m\",\"\u001b[0m\u001b[0;34m)\u001b[0m \u001b[0;31m#Separator spezifizieren\u001b[0m\u001b[0;34m\u001b[0m\u001b[0;34m\u001b[0m\u001b[0m\n\u001b[0m",
      "\u001b[0;32m/usr/lib64/python3.10/site-packages/pandas/util/_decorators.py\u001b[0m in \u001b[0;36mwrapper\u001b[0;34m(*args, **kwargs)\u001b[0m\n\u001b[1;32m    309\u001b[0m                     \u001b[0mstacklevel\u001b[0m\u001b[0;34m=\u001b[0m\u001b[0mstacklevel\u001b[0m\u001b[0;34m,\u001b[0m\u001b[0;34m\u001b[0m\u001b[0;34m\u001b[0m\u001b[0m\n\u001b[1;32m    310\u001b[0m                 )\n\u001b[0;32m--> 311\u001b[0;31m             \u001b[0;32mreturn\u001b[0m \u001b[0mfunc\u001b[0m\u001b[0;34m(\u001b[0m\u001b[0;34m*\u001b[0m\u001b[0margs\u001b[0m\u001b[0;34m,\u001b[0m \u001b[0;34m**\u001b[0m\u001b[0mkwargs\u001b[0m\u001b[0;34m)\u001b[0m\u001b[0;34m\u001b[0m\u001b[0;34m\u001b[0m\u001b[0m\n\u001b[0m\u001b[1;32m    312\u001b[0m \u001b[0;34m\u001b[0m\u001b[0m\n\u001b[1;32m    313\u001b[0m         \u001b[0;32mreturn\u001b[0m \u001b[0mwrapper\u001b[0m\u001b[0;34m\u001b[0m\u001b[0;34m\u001b[0m\u001b[0m\n",
      "\u001b[0;32m/usr/lib64/python3.10/site-packages/pandas/io/parsers/readers.py\u001b[0m in \u001b[0;36mread_csv\u001b[0;34m(filepath_or_buffer, sep, delimiter, header, names, index_col, usecols, squeeze, prefix, mangle_dupe_cols, dtype, engine, converters, true_values, false_values, skipinitialspace, skiprows, skipfooter, nrows, na_values, keep_default_na, na_filter, verbose, skip_blank_lines, parse_dates, infer_datetime_format, keep_date_col, date_parser, dayfirst, cache_dates, iterator, chunksize, compression, thousands, decimal, lineterminator, quotechar, quoting, doublequote, escapechar, comment, encoding, encoding_errors, dialect, error_bad_lines, warn_bad_lines, on_bad_lines, delim_whitespace, low_memory, memory_map, float_precision, storage_options)\u001b[0m\n\u001b[1;32m    584\u001b[0m     \u001b[0mkwds\u001b[0m\u001b[0;34m.\u001b[0m\u001b[0mupdate\u001b[0m\u001b[0;34m(\u001b[0m\u001b[0mkwds_defaults\u001b[0m\u001b[0;34m)\u001b[0m\u001b[0;34m\u001b[0m\u001b[0;34m\u001b[0m\u001b[0m\n\u001b[1;32m    585\u001b[0m \u001b[0;34m\u001b[0m\u001b[0m\n\u001b[0;32m--> 586\u001b[0;31m     \u001b[0;32mreturn\u001b[0m \u001b[0m_read\u001b[0m\u001b[0;34m(\u001b[0m\u001b[0mfilepath_or_buffer\u001b[0m\u001b[0;34m,\u001b[0m \u001b[0mkwds\u001b[0m\u001b[0;34m)\u001b[0m\u001b[0;34m\u001b[0m\u001b[0;34m\u001b[0m\u001b[0m\n\u001b[0m\u001b[1;32m    587\u001b[0m \u001b[0;34m\u001b[0m\u001b[0m\n\u001b[1;32m    588\u001b[0m \u001b[0;34m\u001b[0m\u001b[0m\n",
      "\u001b[0;32m/usr/lib64/python3.10/site-packages/pandas/io/parsers/readers.py\u001b[0m in \u001b[0;36m_read\u001b[0;34m(filepath_or_buffer, kwds)\u001b[0m\n\u001b[1;32m    480\u001b[0m \u001b[0;34m\u001b[0m\u001b[0m\n\u001b[1;32m    481\u001b[0m     \u001b[0;31m# Create the parser.\u001b[0m\u001b[0;34m\u001b[0m\u001b[0;34m\u001b[0m\u001b[0m\n\u001b[0;32m--> 482\u001b[0;31m     \u001b[0mparser\u001b[0m \u001b[0;34m=\u001b[0m \u001b[0mTextFileReader\u001b[0m\u001b[0;34m(\u001b[0m\u001b[0mfilepath_or_buffer\u001b[0m\u001b[0;34m,\u001b[0m \u001b[0;34m**\u001b[0m\u001b[0mkwds\u001b[0m\u001b[0;34m)\u001b[0m\u001b[0;34m\u001b[0m\u001b[0;34m\u001b[0m\u001b[0m\n\u001b[0m\u001b[1;32m    483\u001b[0m \u001b[0;34m\u001b[0m\u001b[0m\n\u001b[1;32m    484\u001b[0m     \u001b[0;32mif\u001b[0m \u001b[0mchunksize\u001b[0m \u001b[0;32mor\u001b[0m \u001b[0miterator\u001b[0m\u001b[0;34m:\u001b[0m\u001b[0;34m\u001b[0m\u001b[0;34m\u001b[0m\u001b[0m\n",
      "\u001b[0;32m/usr/lib64/python3.10/site-packages/pandas/io/parsers/readers.py\u001b[0m in \u001b[0;36m__init__\u001b[0;34m(self, f, engine, **kwds)\u001b[0m\n\u001b[1;32m    809\u001b[0m             \u001b[0mself\u001b[0m\u001b[0;34m.\u001b[0m\u001b[0moptions\u001b[0m\u001b[0;34m[\u001b[0m\u001b[0;34m\"has_index_names\"\u001b[0m\u001b[0;34m]\u001b[0m \u001b[0;34m=\u001b[0m \u001b[0mkwds\u001b[0m\u001b[0;34m[\u001b[0m\u001b[0;34m\"has_index_names\"\u001b[0m\u001b[0;34m]\u001b[0m\u001b[0;34m\u001b[0m\u001b[0;34m\u001b[0m\u001b[0m\n\u001b[1;32m    810\u001b[0m \u001b[0;34m\u001b[0m\u001b[0m\n\u001b[0;32m--> 811\u001b[0;31m         \u001b[0mself\u001b[0m\u001b[0;34m.\u001b[0m\u001b[0m_engine\u001b[0m \u001b[0;34m=\u001b[0m \u001b[0mself\u001b[0m\u001b[0;34m.\u001b[0m\u001b[0m_make_engine\u001b[0m\u001b[0;34m(\u001b[0m\u001b[0mself\u001b[0m\u001b[0;34m.\u001b[0m\u001b[0mengine\u001b[0m\u001b[0;34m)\u001b[0m\u001b[0;34m\u001b[0m\u001b[0;34m\u001b[0m\u001b[0m\n\u001b[0m\u001b[1;32m    812\u001b[0m \u001b[0;34m\u001b[0m\u001b[0m\n\u001b[1;32m    813\u001b[0m     \u001b[0;32mdef\u001b[0m \u001b[0mclose\u001b[0m\u001b[0;34m(\u001b[0m\u001b[0mself\u001b[0m\u001b[0;34m)\u001b[0m\u001b[0;34m:\u001b[0m\u001b[0;34m\u001b[0m\u001b[0;34m\u001b[0m\u001b[0m\n",
      "\u001b[0;32m/usr/lib64/python3.10/site-packages/pandas/io/parsers/readers.py\u001b[0m in \u001b[0;36m_make_engine\u001b[0;34m(self, engine)\u001b[0m\n\u001b[1;32m   1038\u001b[0m             )\n\u001b[1;32m   1039\u001b[0m         \u001b[0;31m# error: Too many arguments for \"ParserBase\"\u001b[0m\u001b[0;34m\u001b[0m\u001b[0;34m\u001b[0m\u001b[0m\n\u001b[0;32m-> 1040\u001b[0;31m         \u001b[0;32mreturn\u001b[0m \u001b[0mmapping\u001b[0m\u001b[0;34m[\u001b[0m\u001b[0mengine\u001b[0m\u001b[0;34m]\u001b[0m\u001b[0;34m(\u001b[0m\u001b[0mself\u001b[0m\u001b[0;34m.\u001b[0m\u001b[0mf\u001b[0m\u001b[0;34m,\u001b[0m \u001b[0;34m**\u001b[0m\u001b[0mself\u001b[0m\u001b[0;34m.\u001b[0m\u001b[0moptions\u001b[0m\u001b[0;34m)\u001b[0m  \u001b[0;31m# type: ignore[call-arg]\u001b[0m\u001b[0;34m\u001b[0m\u001b[0;34m\u001b[0m\u001b[0m\n\u001b[0m\u001b[1;32m   1041\u001b[0m \u001b[0;34m\u001b[0m\u001b[0m\n\u001b[1;32m   1042\u001b[0m     \u001b[0;32mdef\u001b[0m \u001b[0m_failover_to_python\u001b[0m\u001b[0;34m(\u001b[0m\u001b[0mself\u001b[0m\u001b[0;34m)\u001b[0m\u001b[0;34m:\u001b[0m\u001b[0;34m\u001b[0m\u001b[0;34m\u001b[0m\u001b[0m\n",
      "\u001b[0;32m/usr/lib64/python3.10/site-packages/pandas/io/parsers/c_parser_wrapper.py\u001b[0m in \u001b[0;36m__init__\u001b[0;34m(self, src, **kwds)\u001b[0m\n\u001b[1;32m     49\u001b[0m \u001b[0;34m\u001b[0m\u001b[0m\n\u001b[1;32m     50\u001b[0m         \u001b[0;31m# open handles\u001b[0m\u001b[0;34m\u001b[0m\u001b[0;34m\u001b[0m\u001b[0m\n\u001b[0;32m---> 51\u001b[0;31m         \u001b[0mself\u001b[0m\u001b[0;34m.\u001b[0m\u001b[0m_open_handles\u001b[0m\u001b[0;34m(\u001b[0m\u001b[0msrc\u001b[0m\u001b[0;34m,\u001b[0m \u001b[0mkwds\u001b[0m\u001b[0;34m)\u001b[0m\u001b[0;34m\u001b[0m\u001b[0;34m\u001b[0m\u001b[0m\n\u001b[0m\u001b[1;32m     52\u001b[0m         \u001b[0;32massert\u001b[0m \u001b[0mself\u001b[0m\u001b[0;34m.\u001b[0m\u001b[0mhandles\u001b[0m \u001b[0;32mis\u001b[0m \u001b[0;32mnot\u001b[0m \u001b[0;32mNone\u001b[0m\u001b[0;34m\u001b[0m\u001b[0;34m\u001b[0m\u001b[0m\n\u001b[1;32m     53\u001b[0m \u001b[0;34m\u001b[0m\u001b[0m\n",
      "\u001b[0;32m/usr/lib64/python3.10/site-packages/pandas/io/parsers/base_parser.py\u001b[0m in \u001b[0;36m_open_handles\u001b[0;34m(self, src, kwds)\u001b[0m\n\u001b[1;32m    220\u001b[0m         \u001b[0mLet\u001b[0m \u001b[0mthe\u001b[0m \u001b[0mreaders\u001b[0m \u001b[0mopen\u001b[0m \u001b[0mIOHandles\u001b[0m \u001b[0mafter\u001b[0m \u001b[0mthey\u001b[0m \u001b[0mare\u001b[0m \u001b[0mdone\u001b[0m \u001b[0;32mwith\u001b[0m \u001b[0mtheir\u001b[0m \u001b[0mpotential\u001b[0m \u001b[0mraises\u001b[0m\u001b[0;34m.\u001b[0m\u001b[0;34m\u001b[0m\u001b[0;34m\u001b[0m\u001b[0m\n\u001b[1;32m    221\u001b[0m         \"\"\"\n\u001b[0;32m--> 222\u001b[0;31m         self.handles = get_handle(\n\u001b[0m\u001b[1;32m    223\u001b[0m             \u001b[0msrc\u001b[0m\u001b[0;34m,\u001b[0m\u001b[0;34m\u001b[0m\u001b[0;34m\u001b[0m\u001b[0m\n\u001b[1;32m    224\u001b[0m             \u001b[0;34m\"r\"\u001b[0m\u001b[0;34m,\u001b[0m\u001b[0;34m\u001b[0m\u001b[0;34m\u001b[0m\u001b[0m\n",
      "\u001b[0;32m/usr/lib64/python3.10/site-packages/pandas/io/common.py\u001b[0m in \u001b[0;36mget_handle\u001b[0;34m(path_or_buf, mode, encoding, compression, memory_map, is_text, errors, storage_options)\u001b[0m\n\u001b[1;32m    700\u001b[0m         \u001b[0;32mif\u001b[0m \u001b[0mioargs\u001b[0m\u001b[0;34m.\u001b[0m\u001b[0mencoding\u001b[0m \u001b[0;32mand\u001b[0m \u001b[0;34m\"b\"\u001b[0m \u001b[0;32mnot\u001b[0m \u001b[0;32min\u001b[0m \u001b[0mioargs\u001b[0m\u001b[0;34m.\u001b[0m\u001b[0mmode\u001b[0m\u001b[0;34m:\u001b[0m\u001b[0;34m\u001b[0m\u001b[0;34m\u001b[0m\u001b[0m\n\u001b[1;32m    701\u001b[0m             \u001b[0;31m# Encoding\u001b[0m\u001b[0;34m\u001b[0m\u001b[0;34m\u001b[0m\u001b[0m\n\u001b[0;32m--> 702\u001b[0;31m             handle = open(\n\u001b[0m\u001b[1;32m    703\u001b[0m                 \u001b[0mhandle\u001b[0m\u001b[0;34m,\u001b[0m\u001b[0;34m\u001b[0m\u001b[0;34m\u001b[0m\u001b[0m\n\u001b[1;32m    704\u001b[0m                 \u001b[0mioargs\u001b[0m\u001b[0;34m.\u001b[0m\u001b[0mmode\u001b[0m\u001b[0;34m,\u001b[0m\u001b[0;34m\u001b[0m\u001b[0;34m\u001b[0m\u001b[0m\n",
      "\u001b[0;31mFileNotFoundError\u001b[0m: [Errno 2] No such file or directory: '../data/Mathe.csv'"
     ]
    }
   ],
   "source": [
    "#Einlesen des Datensatzes\n",
    "hsb = pd.read_csv('../data/mathe.csv', sep=';', decimal = \",\") #Separator spezifizieren"
   ]
  },
  {
   "cell_type": "code",
   "execution_count": null,
   "id": "007cd12d",
   "metadata": {},
   "outputs": [],
   "source": [
    "#Erster Blick in die Daten\n",
    "hsb"
   ]
  },
  {
   "cell_type": "code",
   "execution_count": null,
   "id": "85f9f4a8",
   "metadata": {},
   "outputs": [],
   "source": [
    "#Deskriptiv-Beispiel: Mittelwert der Matheleistung\n",
    "np.mean(hsb[\"MathAch\"])\n",
    "np.std(hsb[\"MathAch\"])"
   ]
  },
  {
   "cell_type": "code",
   "execution_count": null,
   "id": "e93ee11a",
   "metadata": {},
   "outputs": [],
   "source": [
    "#Schulebene: Scatterplot des mittleren SES (x) und der Schulgröße (Schüleranzahl)\n",
    "x=hsb.MeanSES\n",
    "y1=hsb.Size\n",
    "\n",
    "plt.scatter(x,y1)\n",
    "plt.xlabel(\"Mittlerer SES der Schule (standardisiert)\")\n",
    "plt.ylabel(\"Schulgröße [Anzahl SchülerInnen]\")\n",
    "plt.title(\"(Kein) Zusammenhang zwischen Schulgröße und mittlerem SES\", fontsize = 12)\n"
   ]
  },
  {
   "cell_type": "code",
   "execution_count": null,
   "id": "b3882b7d",
   "metadata": {},
   "outputs": [],
   "source": [
    "#Mittlerer SES mit zwei Variablen / Plots\n",
    "fig, ax = plt.subplots(1,2, figsize = (14,6))\n",
    "y2=hsb.Sector\n",
    "ax[0].scatter(x, y1, c=\"Blue\", label=\"SES mit Size\")\n",
    "ax[1].scatter(x, y2, c=\"Orange\", label=\"SES mit Sector\")\n",
    "\n",
    "fig.legend()\n",
    "\n",
    "ax[0].set_title(\"Zusammenhang Schulgröße und mittlerer SES\")\n",
    "ax[0].set_ylabel(\"Schüleranzahl\")\n",
    "ax[0].set_xlabel(\"SES der Schule\")\n",
    "ax[1].set_title(\"Zusammenhang Schulsektor und mittlerer SES\")\n",
    "ax[1].set_xlabel(\"Mittlerer SES\")\n",
    "ax[1].set_ylabel(\"Sektor\")"
   ]
  },
  {
   "cell_type": "code",
   "execution_count": null,
   "id": "50294fcf",
   "metadata": {},
   "outputs": [],
   "source": [
    "#Zusammenhänge der einzelnen SchülerInnen: Zusammenhang zwischen SES und Matheleistung, getrennt nach Geschlechtern\n",
    "x2=hsb[hsb.Sex==\"Male\"].SES\n",
    "y3=hsb[hsb.Sex==\"Male\"].MathAch\n",
    "x3=hsb[hsb.Sex==\"Female\"].SES\n",
    "y4=hsb[hsb.Sex==\"Female\"].MathAch\n",
    "\n",
    "fig, ax = plt.subplots(1,2, figsize = (25,10))\n",
    "ax[0].scatter(x2, y3, c=\"Pink\", label=\"SES der Männer mit Mathe\")\n",
    "ax[1].scatter(x3, y4, c=\"Blue\", label=\"SES der Frauen mit Mathe\")\n",
    "\n",
    "fig.legend()\n",
    "ax[0].set_xlabel(\"SES des Mannes\", size=15)\n",
    "ax[1].set_xlabel(\"SES der Frau\", size=15)\n",
    "ax[0].set_ylabel(\"Matheleistung\", size=15)\n",
    "ax[1].set_ylabel(\"Matheleistung\", size=15)\n",
    "ax[0].set_xlim(-4,3)\n",
    "ax[1].set_xlim(-4,3)\n",
    "ax[0].set_title(\"Zusammenhang SES/MathAch bei Männern\", size=20)\n",
    "ax[1].set_title(\"Zusammenhang SES/MathAch bei Frauen\", size=20)"
   ]
  },
  {
   "cell_type": "code",
   "execution_count": null,
   "id": "8c8e69da",
   "metadata": {},
   "outputs": [],
   "source": [
    "#Barplots: Mittlere Matheleistung zwischen \n",
    "MeanM = np.mean(hsb[hsb.Sex==\"Male\"].MathAch)\n",
    "MeanF = np.mean(hsb[hsb.Sex==\"Female\"].MathAch)\n",
    "data = {'Sex': ['Male', 'Female'], 'Mean': [MeanM, MeanF]}  \n",
    "df = pd.DataFrame(data)\n",
    "\n",
    "fig = plt.figure()\n",
    "ax = fig.add_axes([0,0,1,1])\n",
    "ax.bar(df.Sex,df.Mean, color = [\"Pink\", \"Blue\"])\n",
    "plt.show()"
   ]
  },
  {
   "cell_type": "code",
   "execution_count": null,
   "id": "60e56b08",
   "metadata": {
    "scrolled": true
   },
   "outputs": [],
   "source": [
    "#Scatterplot und Lineare Regression: Vorhersage von MathAch nach SES getrennt nach Bevölkerungsgruppe\n",
    "SESMin = hsb[hsb.Minority==\"Yes\"].SES\n",
    "SESMax = hsb[hsb.Minority==\"No\"].SES\n",
    "MathMin = hsb[hsb.Minority==\"Yes\"].MathAch\n",
    "MathMax = hsb[hsb.Minority==\"No\"].MathAch\n",
    "\n",
    "from sklearn.linear_model import LinearRegression\n",
    "model1 = LinearRegression()\n",
    "model2 = LinearRegression()\n",
    "\n",
    "x1 = np.array(SESMin).reshape(-1,1)\n",
    "x2 = np.array(SESMax).reshape(-1,1)\n",
    "y1 = np.array(MathMin)\n",
    "y2 = np.array(MathMax)\n",
    "\n",
    "model1.fit(x1, y1).intercept_\n",
    "model1.fit(x1, y1).coef_\n",
    "\n",
    "model2.fit(x2, y2).intercept_\n",
    "model2.fit(x2, y2).coef_\n",
    "\n",
    "fig, ax = plt.subplots(figsize=(7,6))\n",
    "\n",
    "ax.scatter(SESMin, MathMin, s=2, label=\"Minderheit\")\n",
    "ax.scatter(SESMax, MathMax, s=2, label=\"Mehrheit\")\n",
    "ax.set_xlim(-4,3)\n",
    "ax.set_xlim(-5,3)\n",
    "plt.legend(fontsize=10, loc=0)\n",
    "\n",
    "x = np.linspace(-4,3,100)\n",
    "y1 = model1.intercept_ + model1.coef_*x\n",
    "y2 = model2.intercept_ + model2.coef_*x\n",
    "plt.plot(x,y1)\n",
    "plt.plot(x,y2)\n",
    "plt.xlabel(\"SES\")\n",
    "plt.ylabel(\"MathAch\")\n",
    "plt.title(\"Vorhersage von MathAch nach SES getrennt nach Bevölkerungsgruppe\")"
   ]
  },
  {
   "cell_type": "code",
   "execution_count": null,
   "id": "9184000c",
   "metadata": {},
   "outputs": [],
   "source": [
    "fig, ax = plt.subplots(figsize=(7,6))\n",
    "ax.boxplot([hsb[hsb.Minority==\"Yes\"].MathAch, hsb[hsb.Minority==\"No\"].MathAch])\n",
    "ax.set_xticklabels([\"Minority\", \"Majority\"])\n",
    "plt.xlabel(\"Gruppe\")\n",
    "plt.ylabel(\"MathAch\")\n",
    "plt.title(\"Verteilung der MathAch getrennt nach Bevölkerungsgruppe\")"
   ]
  },
  {
   "cell_type": "code",
   "execution_count": null,
   "id": "c58cd79b",
   "metadata": {
    "scrolled": true
   },
   "outputs": [],
   "source": [
    "fig, ax = plt.subplots(1,3,figsize=(20,10))\n",
    "sns.boxplot(x='Minority', y='MathAch', data=hsb, palette=\"OrRd\", ax=ax[0]).set(title=\"Matheleistung nach Minoritätenzugehörigkeit\")\n",
    "sns.boxplot(x='Sex', y='MathAch', data=hsb, palette=\"Greens\", ax=ax[1]).set(title=\"Matheleistung nach Geschlecht\")\n",
    "sns.boxplot(x='Sector', y='MathAch', data=hsb, palette=\"Purples\", ax=ax[2]).set(title=\"Matheleistung nach Schulart\")\n",
    "fig.suptitle(\"Matheleistung nach Gruppenzugehörigkeit\", fontsize = 24)\n",
    "fig.savefig('Boxplots.pdf')"
   ]
  },
  {
   "cell_type": "code",
   "execution_count": null,
   "id": "cf3b9e9a",
   "metadata": {},
   "outputs": [],
   "source": []
  }
 ],
 "metadata": {
  "kernelspec": {
   "display_name": "Python 3",
   "language": "python",
   "name": "python3"
  },
  "language_info": {
   "codemirror_mode": {
    "name": "ipython",
    "version": 3
   },
   "file_extension": ".py",
   "mimetype": "text/x-python",
   "name": "python",
   "nbconvert_exporter": "python",
   "pygments_lexer": "ipython3",
   "version": "3.10.2"
  }
 },
 "nbformat": 4,
 "nbformat_minor": 5
}
