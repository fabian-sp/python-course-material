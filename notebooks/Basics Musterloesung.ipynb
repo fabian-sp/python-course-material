{
 "cells": [
  {
   "cell_type": "markdown",
   "metadata": {},
   "source": [
    "## 1) Python ist ein Taschenrechner"
   ]
  },
  {
   "cell_type": "code",
   "execution_count": null,
   "metadata": {},
   "outputs": [],
   "source": [
    "import numpy as np"
   ]
  },
  {
   "cell_type": "code",
   "execution_count": null,
   "metadata": {},
   "outputs": [],
   "source": [
    "(1 + 1) * 3"
   ]
  },
  {
   "cell_type": "code",
   "execution_count": null,
   "metadata": {},
   "outputs": [],
   "source": [
    "np.sin(np.pi / 4)"
   ]
  },
  {
   "cell_type": "code",
   "execution_count": null,
   "metadata": {},
   "outputs": [],
   "source": [
    "# Das ist ein Kommentar\n",
    "# Der Operator a**b berechnet \"a hoch b\"\n",
    "np.sqrt(3**2 + 4**2)"
   ]
  },
  {
   "cell_type": "markdown",
   "metadata": {},
   "source": [
    "## 2) Variablen"
   ]
  },
  {
   "cell_type": "code",
   "execution_count": null,
   "metadata": {},
   "outputs": [],
   "source": [
    "# Zur Übersichtlichkeit können wir Zwischenergebnisse in Variablen speichern:\n",
    "strecke = 3.8 + 180 + 42 #Triathlon (Schwimmen, Fahrrad, Laufen)\n",
    "zeit = 0.75 + 4 + 2.75 #Jan Frodeno\n",
    "geschwindigkeit = strecke / zeit\n",
    "geschwindigkeit"
   ]
  },
  {
   "cell_type": "code",
   "execution_count": null,
   "metadata": {},
   "outputs": [],
   "source": [
    "# Variablen haben verschiedene Typen\n",
    "wahrheit = True\n",
    "zahl = 3\n",
    "text = \"Hallo\"\n",
    "print(wahrheit, zahl, text)"
   ]
  },
  {
   "cell_type": "code",
   "execution_count": null,
   "metadata": {},
   "outputs": [],
   "source": [
    "# Wir können Variablen in Listen speichern\n",
    "liste = [wahrheit, zahl, text]\n",
    "# Auf Listenelemente können wir mit [index] zugreifen\n",
    "# Achtung: das erste Element hat Index 0!\n",
    "print(liste[0])\n",
    "print(liste[1])\n",
    "print(liste[2])"
   ]
  },
  {
   "cell_type": "markdown",
   "metadata": {},
   "source": [
    "## 3) Bedingungen\n",
    "```\n",
    "if bedingung:\n",
    "    Anweisung()\n",
    "elif bedingung2:\n",
    "    Anweisung2()\n",
    "else:\n",
    "    AndereAnweisung()\n",
    "```"
   ]
  },
  {
   "cell_type": "code",
   "execution_count": null,
   "metadata": {},
   "outputs": [],
   "source": [
    "# mit if können wir Entscheidungen treffen\n",
    "zahl = -1\n",
    "if zahl < 0:\n",
    "    text = \"negativ\"\n",
    "else:\n",
    "    text = \"positiv\"\n",
    "text"
   ]
  },
  {
   "cell_type": "code",
   "execution_count": null,
   "metadata": {},
   "outputs": [],
   "source": [
    "# Mögliche Operatoren: <, <=, ==, >=, >, not\n",
    "# Achtung: \n",
    "# Ein einzelnes = nutzen wir für eine Zuweisung (zahl = 1).\n",
    "# Für einen Vergleich verwenden wir immer == (if zahl == 1)\n",
    "zahl = 2\n",
    "if zahl == 1:\n",
    "    print(\"eins\")\n",
    "if not (zahl == 3):\n",
    "    print(\"nicht drei\")"
   ]
  },
  {
   "cell_type": "markdown",
   "metadata": {},
   "source": [
    "## 4) Wiederholungen\n",
    "```\n",
    "for i in range(10):\n",
    "    Anweisung(i)\n",
    "```"
   ]
  },
  {
   "cell_type": "code",
   "execution_count": null,
   "metadata": {},
   "outputs": [],
   "source": [
    "for i in range(5):\n",
    "    print(i)"
   ]
  },
  {
   "cell_type": "code",
   "execution_count": null,
   "metadata": {},
   "outputs": [],
   "source": [
    "# Berechne die Summe aller Zahlen von 10 bis 20\n",
    "summe = 0\n",
    "for i in range(10, 21):\n",
    "    summe = summe + i\n",
    "summe"
   ]
  },
  {
   "cell_type": "markdown",
   "metadata": {},
   "source": [
    "## 5) Funktionen\n",
    "```\n",
    "def function(parameter):\n",
    "    TuWasMitParameter\n",
    "```"
   ]
  },
  {
   "cell_type": "code",
   "execution_count": null,
   "metadata": {},
   "outputs": [],
   "source": [
    "# Häufig genutzte Teile können wir in Funktionen auslagern\n",
    "def hallo(name):\n",
    "    print(\"Hallo\", name)\n",
    "hallo(\"Sebastian\")\n",
    "hallo(\"Fabian\")"
   ]
  },
  {
   "cell_type": "code",
   "execution_count": null,
   "metadata": {},
   "outputs": [],
   "source": [
    "def international(name, sprache):\n",
    "    if sprache == \"Englisch\":\n",
    "        print(\"Hello\", name)\n",
    "    elif sprache == \"Deutsch\":\n",
    "        print(\"Hallo\", name)\n",
    "    elif sprache == \"Spanisch\":\n",
    "        print(\"Hola\", name)\n",
    "    else:\n",
    "        print(\"I don't know your language :/\")\n",
    "\n",
    "international(\"Fabian\", \"Spanisch\")\n",
    "international(\"Sebastian\", \"Deutsch\")"
   ]
  },
  {
   "cell_type": "markdown",
   "metadata": {},
   "source": [
    "## 6) Schaltjahre\n",
    "Aufgabe: Schreibe eine Funktion, die überprüft, ob ein Jahr ein Schaltjahr ist und finde für die Jahre zwischen 1990 und 2030 heraus, welches ein Schaltjahr ist und welches nicht.\n",
    "\n",
    "Algorithmus: https://de.wikipedia.org/wiki/Schaltjahr#Gregorianischer_Kalender    \n",
    "\n",
    "Tipp: StackOverFlow"
   ]
  },
  {
   "cell_type": "code",
   "execution_count": null,
   "metadata": {},
   "outputs": [],
   "source": [
    "def ist_schaltjahr(jahr):\n",
    "    schaltjahr = False\n",
    "    \n",
    "    if jahr % 4 == 0:\n",
    "        if jahr % 400 == 0:\n",
    "            schaltjahr = True\n",
    "        elif jahr % 100 == 0:\n",
    "            schaltjahr = False\n",
    "        else:\n",
    "            schaltjahr = True\n",
    "    else:\n",
    "        schaltjahr = False\n",
    "    \n",
    "    return schaltjahr"
   ]
  },
  {
   "cell_type": "code",
   "execution_count": null,
   "metadata": {},
   "outputs": [],
   "source": [
    "# Überprüfe die Jahre 1990 bis 2030\n",
    "for jahr in range(1990, 2031):\n",
    "    print(\"Ist\", jahr, \"ein Schaltjahr?\", ist_schaltjahr(jahr))"
   ]
  },
  {
   "cell_type": "markdown",
   "metadata": {},
   "source": [
    "## 7) Primzahlen\n",
    "Aufgabe: Überprüfe für die Zahlen 1 bis 20, ob es sich jeweils um eine Primzahl handelt"
   ]
  },
  {
   "cell_type": "code",
   "execution_count": null,
   "metadata": {},
   "outputs": [],
   "source": [
    "def ist_primzahl(zahl):\n",
    "    if zahl == 1: \n",
    "        return False\n",
    "    if zahl == 2:\n",
    "        return True\n",
    "    else:\n",
    "        for i in range(2, np.floor(np.sqrt(zahl))):\n",
    "            if zahl % i == 0:\n",
    "                return False\n",
    "    return True"
   ]
  },
  {
   "cell_type": "code",
   "execution_count": null,
   "metadata": {},
   "outputs": [],
   "source": [
    "for zahl in range(21):\n",
    "    print(zahl, \"ist Primzahl: \", ist_primzahl(zahl))"
   ]
  }
 ],
 "metadata": {
  "kernelspec": {
   "display_name": "Python 3",
   "language": "python",
   "name": "python3"
  },
  "language_info": {
   "codemirror_mode": {
    "name": "ipython",
    "version": 3
   },
   "file_extension": ".py",
   "mimetype": "text/x-python",
   "name": "python",
   "nbconvert_exporter": "python",
   "pygments_lexer": "ipython3",
   "version": "3.10.2"
  }
 },
 "nbformat": 4,
 "nbformat_minor": 4
}
